{
    "cells": [
        {
            "cell_type": "markdown",
            "metadata": {
                "collapsed": true
            },
            "source": "# My Jupyter Notebook on IBM Watson Studio"
        },
        {
            "cell_type": "markdown",
            "metadata": {},
            "source": "**Sagar Gunin**\n\nData scientist"
        },
        {
            "cell_type": "markdown",
            "metadata": {},
            "source": "*I am interested in data science because i want to learn new edge technology*"
        },
        {
            "cell_type": "markdown",
            "metadata": {},
            "source": "### The following code is addition of two numbers"
        },
        {
            "cell_type": "code",
            "execution_count": 1,
            "metadata": {},
            "outputs": [
                {
                    "name": "stdout",
                    "output_type": "stream",
                    "text": "Addition of 10 & 20 = 30\n"
                }
            ],
            "source": "a=10\nb=20\nprint(\"Addition of\",a,\"&\",b,\"=\",a+b)"
        },
        {
            "cell_type": "markdown",
            "metadata": {},
            "source": "1. Fruits\n\n2. Vegetables\n\n3. Flowers\n\n4. Animals\n\n~~Institution~~\n\n* Dog\n\n+ Cat\n\n- Lion\n\n* Tiger\n\n| Name        | Age          | Sex  |\n| ------------- |:-------------:| -----:|\n| Bob     | 30 | M |\n| James      | 28      |   M |\n| Harry | 29    |    M |"
        },
        {
            "cell_type": "code",
            "execution_count": null,
            "metadata": {},
            "outputs": [],
            "source": ""
        }
    ],
    "metadata": {
        "kernelspec": {
            "display_name": "Python 3.10",
            "language": "python",
            "name": "python3"
        },
        "language_info": {
            "codemirror_mode": {
                "name": "ipython",
                "version": 3
            },
            "file_extension": ".py",
            "mimetype": "text/x-python",
            "name": "python",
            "nbconvert_exporter": "python",
            "pygments_lexer": "ipython3",
            "version": "3.10.6"
        }
    },
    "nbformat": 4,
    "nbformat_minor": 1
}